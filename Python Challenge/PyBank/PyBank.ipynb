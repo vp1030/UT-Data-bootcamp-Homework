{
 "cells": [
  {
   "cell_type": "code",
   "execution_count": 3,
   "metadata": {
    "collapsed": true
   },
   "outputs": [],
   "source": [
    "#import dependencies\n",
    "import os\n",
    "import csv\n",
    "import pandas as pd"
   ]
  },
  {
   "cell_type": "code",
   "execution_count": 19,
   "metadata": {
    "collapsed": true
   },
   "outputs": [],
   "source": [
    "#Read csv file\n",
    "budget_data = os.path.join(\"..\", \"Python Challenge\", \"PyBank\", \"Raw_Data\", \"budget_data_1.csv\")\n",
    "csv_path = \"Desktop/UT-Data-bootcamp/Python Challenge/PyBank/Raw_Data/budget_data_1.csv\""
   ]
  },
  {
   "cell_type": "code",
   "execution_count": 21,
   "metadata": {},
   "outputs": [],
   "source": [
    "#Create dataframe\n",
    "pd.read_csv(csv_path)\n",
    "budget_df = pd.read_csv(csv_path)"
   ]
  },
  {
   "cell_type": "code",
   "execution_count": 24,
   "metadata": {},
   "outputs": [],
   "source": [
    "#Find total month count\n",
    "month_counts = budget_df[\"Date\"].value_counts()\n",
    "total_months = month_counts.sum()"
   ]
  },
  {
   "cell_type": "code",
   "execution_count": 25,
   "metadata": {
    "collapsed": true
   },
   "outputs": [],
   "source": [
    "#Find total revenue\n",
    "revenue_count = budget_df[\"Revenue\"].sum()"
   ]
  },
  {
   "cell_type": "code",
   "execution_count": 26,
   "metadata": {
    "collapsed": true
   },
   "outputs": [],
   "source": [
    "#Find min and max dates and revenues\n",
    "max_value = budget_df[\"Revenue\"].max()\n",
    "max_date = budget_df[\"Date\"].max()\n",
    "min_value = budget_df[\"Revenue\"].min()\n",
    "min_date = budget_df[\"Date\"].min()"
   ]
  },
  {
   "cell_type": "code",
   "execution_count": 27,
   "metadata": {
    "collapsed": true
   },
   "outputs": [],
   "source": [
    "#Find avg change\n",
    "average_change = int((revenue_count)/(total_months))"
   ]
  },
  {
   "cell_type": "code",
   "execution_count": 31,
   "metadata": {
    "scrolled": true
   },
   "outputs": [
    {
     "name": "stdout",
     "output_type": "stream",
     "text": [
      "Financial Analysis\n",
      "----------------------------\n",
      "Total Months:41\n",
      "Total Revenue: $18971412\n",
      "Average Revenue Change: $462717\n",
      "Greatest Increase in Revenue: Sep-15 ($1195111)\n",
      "Greatest Decrease in Revenue: Apr-13 ($-1172384)\n"
     ]
    }
   ],
   "source": [
    "#Print Results\n",
    "print(\"Financial Analysis\")\n",
    "print(\"----------------------------\")\n",
    "print(\"Total Months:\"+ str(total_months))\n",
    "print(\"Total Revenue: $\" +str(revenue_count))\n",
    "print(\"Average Revenue Change: $\" +str(average_change))\n",
    "print(\"Greatest Increase in Revenue: \" +str(max_date) + \" ($\" +str(max_value)+\")\")\n",
    "print(\"Greatest Decrease in Revenue: \" +str(min_date) + \" ($\" +str(min_value)+\")\")"
   ]
  },
  {
   "cell_type": "code",
   "execution_count": 34,
   "metadata": {
    "collapsed": true
   },
   "outputs": [],
   "source": [
    "#Output to txt file\n",
    "#Figure out how to output to txt file\n",
    "import subprocess\n",
    "with open(\"pybank.txt\", \"w\") as output:\n",
    "    subprocess.call([\"python\", \"./main.py\"], stdout=output);"
   ]
  },
  {
   "cell_type": "code",
   "execution_count": null,
   "metadata": {
    "collapsed": true
   },
   "outputs": [],
   "source": []
  }
 ],
 "metadata": {
  "kernelspec": {
   "display_name": "Python 3",
   "language": "python",
   "name": "python3"
  },
  "language_info": {
   "codemirror_mode": {
    "name": "ipython",
    "version": 3
   },
   "file_extension": ".py",
   "mimetype": "text/x-python",
   "name": "python",
   "nbconvert_exporter": "python",
   "pygments_lexer": "ipython3",
   "version": "3.6.3"
  }
 },
 "nbformat": 4,
 "nbformat_minor": 2
}
