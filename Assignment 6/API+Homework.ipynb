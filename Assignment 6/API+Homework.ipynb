{
 "cells": [
  {
   "cell_type": "markdown",
   "metadata": {},
   "source": [
    "# Weather Py"
   ]
  },
  {
   "cell_type": "code",
   "execution_count": null,
   "metadata": {
    "collapsed": true
   },
   "outputs": [],
   "source": [
    "#Import Dependencies \n",
    "\n",
    "import requests as req\n",
    "import json\n",
    "import os\n",
    "import csv\n",
    "import numpy as np\n",
    "import matplotlib.pyplot as plt\n",
    "from citipy import citipy\n",
    "from pprint import pprint\n",
    "import pandas as pd\n",
    "from random import uniform\n",
    "from datetime import date\n",
    "from config import api_key"
   ]
  },
  {
   "cell_type": "code",
   "execution_count": null,
   "metadata": {
    "collapsed": true
   },
   "outputs": [],
   "source": [
    "!echo 'api_key = \"bdeab37429c49cddc59ae212b9ff6bb0\"' > config.py\n",
    "#!echo 'variable2 = \"message\"' >> config.py"
   ]
  },
  {
   "cell_type": "markdown",
   "metadata": {},
   "source": [
    "#### Analysis\n",
    "\n",
    "1. analysis 1\n",
    "2. analysis 2\n",
    "3. analysis 3"
   ]
  },
  {
   "cell_type": "markdown",
   "metadata": {},
   "source": [
    "### Generate City Lists"
   ]
  },
  {
   "cell_type": "code",
   "execution_count": null,
   "metadata": {
    "collapsed": true
   },
   "outputs": [],
   "source": [
    "#Creating cities list\n",
    "cities = []\n",
    "\n",
    "#Generating random latitudes and longitudes\n",
    "latitude = np.random.uniform(low=-90.000, high=90.000, size=1800)\n",
    "longitude = np.random.uniform(low=-180.000, high=180.000, size=1800)\n",
    "\n",
    "#Creating for loop to find cities from citipy using the randomly generated lat-long\n",
    "for x in range(len(latitude)):\n",
    "    city = citipy.nearest_city(latitude[x], longitude[x])\n",
    "       \n",
    "   #Getting city names and country from citipy\n",
    "    city_name = city.city_name + \",\" + city.country_code\n",
    "    \n",
    "    #Adding city names to the empty list\n",
    "    cities.append(city_name)\n",
    "    \n",
    "#Filtering out only the unique cities name from the list\n",
    "unique_cities = set(cities)\n",
    "unique_cities.head()"
   ]
  },
  {
   "cell_type": "markdown",
   "metadata": {},
   "source": [
    "### Perform API Calls"
   ]
  },
  {
   "cell_type": "code",
   "execution_count": null,
   "metadata": {
    "collapsed": true
   },
   "outputs": [],
   "source": [
    "#Defining base url\n",
    "base_url = \"https://api.openweathermap.org/data/2.5/weather?\"\n",
    "\n",
    "#Creating an empty list for each of the parameters\n",
    "city_temperature = []\n",
    "city_cloudiness = []\n",
    "city_humidity = []\n",
    "city_windspeed = []\n",
    "city_latitudes = []\n",
    "city_name_list = []\n",
    "\n",
    "#Converting Temperature from Kelvin to Farenheit\n",
    "units = \"imperial\"\n",
    "\n",
    "#Creating a for loop to get data from openweathermap for each city in the city list\n",
    "for each in unique_cities:\n",
    "    \n",
    "    #Creating specific url for each city using the api_key\n",
    "    target_url = base_url + \"appid=\" + api_key + \"&units=\" + units + \"&q=\" + each\n",
    "    try:\n",
    "        #Converting the weather data to a json file\n",
    "        city_data = req.get(target_url).json()\n",
    "        \n",
    "        if ( city_data[\"main\"] and  city_data[\"clouds\"] and city_data[\"wind\"] and city_data[\"coord\"]):\n",
    "            \n",
    "            #Retrieve name of each city\n",
    "            city_name = city_data[\"name\"]\n",
    "            city_name_list.append(city_name)\n",
    "        \n",
    "            #Retriving temperature for each city from the weather data and adding it to the empty list    \n",
    "            city_temp = city_data[\"main\"][\"temp\"]\n",
    "            city_temperature.append(city_temp)\n",
    "\n",
    "            #Retriving cloudiness for each city from the weather data and adding it to the empty list  \n",
    "            city_cloud = city_data[\"clouds\"][\"all\"]\n",
    "            city_cloudiness.append(city_cloud)\n",
    "\n",
    "            #Retriving humidity for each city from the weather data and adding it to the empty list  \n",
    "            city_humi = city_data[\"main\"][\"humidity\"]\n",
    "            city_humidity.append(city_humi)\n",
    "\n",
    "            #Retriving wind speed for each city from the weather data and adding it to the empty list \n",
    "            #Converting wind speed to mph\n",
    "            city_sp = round((city_data[\"wind\"][\"speed\"])/ 0.44704,2)\n",
    "            city_windspeed.append(city_sp)\n",
    "\n",
    "            #Retriving latitudes for each city from the weather data\n",
    "            city_lat = city_data[\"coord\"][\"lat\"]\n",
    "            city_latitudes.append(city_lat)\n",
    "            \n",
    "    except KeyError:\n",
    "        pass\n",
    "    \n",
    "print( len(city_temperature))\n",
    "print (len(city_cloudiness))\n",
    "print (len(city_humidity))\n",
    "print (len(city_windspeed))\n",
    "print (len(city_latitudes))\n",
    "print (len(city_name_list))"
   ]
  },
  {
   "cell_type": "code",
   "execution_count": null,
   "metadata": {
    "collapsed": true
   },
   "outputs": [],
   "source": [
    "#Creating a dataframe to store the results from above\n",
    "summary_data = pd.DataFrame({\"Latitude\": city_latitudes,\n",
    "                             \"Temperature (F)\": city_temperature, \n",
    "                             \"Cloudiness (%)\": city_cloudiness,\n",
    "                             \"Humidity (%)\": city_humidity,\n",
    "                             \"Wind Speed (mph)\": city_windspeed,                       \n",
    "                             \"City\": city_name_list                \n",
    "                             })\n",
    "summary_data.head()\n",
    "\n",
    "#Save Data to csv\n",
    "summary_data.to_csv(\"Cities_weather_data.csv\", encoding=\"utf-8\", index=False)"
   ]
  },
  {
   "cell_type": "markdown",
   "metadata": {},
   "source": [
    "### Latitude vs Temperature Plot"
   ]
  },
  {
   "cell_type": "code",
   "execution_count": null,
   "metadata": {
    "collapsed": true
   },
   "outputs": [],
   "source": [
    "#Plotting scatter plot of latitude Vs Temperature\n",
    "\n",
    "plt.scatter(summary_data[\"Latitude\"],summary_data[\"Temperature (F)\"], marker=\"o\", facecolors=\"red\",\n",
    "            s=20, alpha=0.75)\n",
    "plt.xlabel(\"Latitude\")\n",
    "plt.ylabel(\"Temperature F\")\n",
    "plt.title(f\"Latitude Vs Temperature ({date.today()})\")\n",
    "plt.savefig('Lat Vs Temp.png')\n",
    "plt.show()"
   ]
  },
  {
   "cell_type": "code",
   "execution_count": null,
   "metadata": {
    "collapsed": true
   },
   "outputs": [],
   "source": [
    "#Plotting scatter plot of latitude Vs Cloudiness\n",
    "\n",
    "plt.scatter(summary_data[\"Latitude\"],summary_data[\"Cloudiness (%)\"], marker=\"o\", facecolors=\"red\",\n",
    "            s=20, alpha=0.75)\n",
    "plt.xlabel(\"Latitude\")\n",
    "plt.ylabel(\"Cloudiness (%)\")\n",
    "plt.title(f\"Latitude Vs Cloudiness ({date.today()})\")\n",
    "plt.savefig('Lat Vs Cloudiness.png')\n",
    "plt.show()"
   ]
  },
  {
   "cell_type": "code",
   "execution_count": null,
   "metadata": {
    "collapsed": true
   },
   "outputs": [],
   "source": [
    "#Plotting scatter plot of latitude Vs Humidity\n",
    "plt.scatter(summary_data[\"Latitude\"],summary_data[\"Humidity (%)\"], marker=\"o\", facecolors=\"red\", \n",
    "            s=20, alpha=0.75)\n",
    "plt.xlabel(\"Latitude\")\n",
    "plt.ylabel(\"Humidity (%)\")\n",
    "plt.title(f\"Latitude Vs Humidity ({date.today()})\")\n",
    "plt.savefig('Lat Vs Humidity.png')\n",
    "plt.show()"
   ]
  },
  {
   "cell_type": "markdown",
   "metadata": {
    "collapsed": true
   },
   "source": [
    "### Plotting scatter plot of latitude Vs WindSpeed\n",
    "\n",
    "plt.scatter(summary_data[\"Latitude\"],summary_data[\"Wind Speed (mph)\"], marker=\"o\", facecolors=\"red\", \n",
    "            s=20, alpha=0.75)\n",
    "plt.xlabel(\"Latitude\")\n",
    "plt.ylabel(\"Wind Speed (mph)\")\n",
    "plt.title(f\"Latitude Vs Wind Speed ({date.today()})\")\n",
    "plt.savefig('Lat Vs WindSpeed.png')\n",
    "plt.show()"
   ]
  }
 ],
 "metadata": {
  "kernelspec": {
   "display_name": "Python 3",
   "language": "python",
   "name": "python3"
  },
  "language_info": {
   "codemirror_mode": {
    "name": "ipython",
    "version": 3
   },
   "file_extension": ".py",
   "mimetype": "text/x-python",
   "name": "python",
   "nbconvert_exporter": "python",
   "pygments_lexer": "ipython3",
   "version": "3.6.3"
  }
 },
 "nbformat": 4,
 "nbformat_minor": 2
}
